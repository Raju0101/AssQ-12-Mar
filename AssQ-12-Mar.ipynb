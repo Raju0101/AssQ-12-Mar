{
 "cells": [
  {
   "cell_type": "code",
   "execution_count": null,
   "id": "97c15fe3-fe39-43c1-a94d-e2ce6d2dd55e",
   "metadata": {},
   "outputs": [],
   "source": []
  },
  {
   "cell_type": "code",
   "execution_count": null,
   "id": "1e752b45-9994-4991-bb80-e132769daeb0",
   "metadata": {},
   "outputs": [],
   "source": [
    "Q1. Calculate the 95% confidence interval for a sample of data with a mean of 50 and a standard deviation \n",
    "of 5 using Python. Interpret the results."
   ]
  },
  {
   "cell_type": "code",
   "execution_count": null,
   "id": "d6c5dcec-0a2a-4ce3-a9f4-992ca38eb6e8",
   "metadata": {},
   "outputs": [],
   "source": [
    "Confidence Interval = Mean ± (Critical Value) * (Standard Deviation / sqrt(sample size))\n",
    "\n",
    "The critical value depends on the desired confidence level and the distribution being used.\n",
    "For a normal distribution, the critical value for a 95% confidence level is approximately 1.96.\n",
    "\n",
    "Here's how you can calculate the 95% confidence interval in Python:"
   ]
  },
  {
   "cell_type": "code",
   "execution_count": null,
   "id": "25b723b9-ae9b-4804-b413-eb1d955b135b",
   "metadata": {},
   "outputs": [],
   "source": [
    "import math\n",
    "\n",
    "mean = 50\n",
    "std_dev = 5\n",
    "confidence_level = 0.95\n",
    "sample_size = 100  # You need to provide the sample size\n",
    "\n",
    "# Calculate the critical value for a normal distribution\n",
    "critical_value = 1.96\n",
    "\n",
    "# Calculate the margin of error\n",
    "margin_of_error = critical_value * (std_dev / math.sqrt(sample_size))\n",
    "\n",
    "# Calculate the confidence interval\n",
    "lower_bound = mean - margin_of_error\n",
    "upper_bound = mean + margin_of_error\n",
    "\n",
    "print(\"95% Confidence Interval: [{:.2f}, {:.2f}]\".format(lower_bound, upper_bound))"
   ]
  },
  {
   "cell_type": "code",
   "execution_count": null,
   "id": "54b8df8c-801b-4978-b45f-6a0b69927e13",
   "metadata": {},
   "outputs": [],
   "source": [
    "Interpretation:\n",
    "In this case, if you calculate the 95% confidence interval, it will give you a range within\n",
    "which you can be 95% confident that the true population mean lies. This means that if you were \n",
    "to take many samples and calculate the confidence \n",
    "intervals for each, about 95% of those intervals would contain the true population mean.\n",
    "\n",
    "In your provided code, you'll need to replace sample_size with the actual size of your\n",
    "sample to get an accurate confidence interval. The interpretation remains the same: \n",
    "the true population mean is likely to fall within the calculated interval with a 95% confidence level."
   ]
  },
  {
   "cell_type": "code",
   "execution_count": null,
   "id": "147f7d0d-4c53-487a-ad7c-7dfe06715a47",
   "metadata": {},
   "outputs": [],
   "source": []
  },
  {
   "cell_type": "code",
   "execution_count": null,
   "id": "0f912b47-cc3e-4af3-af85-209edd9052fe",
   "metadata": {},
   "outputs": [],
   "source": [
    "Q2. Conduct a chi-square goodness of fit test to determine if the distribution of colors of M&Ms in a bag \n",
    "matches the expected distribution of 20% blue, 20% orange, 20% green, 10% yellow, 10% red, and 20% \n",
    "brown. Use Python to perform the test with a significance level of 0.05.\n"
   ]
  },
  {
   "cell_type": "code",
   "execution_count": null,
   "id": "decbebd4-370e-4ad6-a7dd-41af1b113895",
   "metadata": {},
   "outputs": [],
   "source": [
    "\n",
    "To conduct a chi-square goodness of fit test in Python, you can use the scipy.stats module. \n",
    "Here's how you can perform the test to determine if the distribution of colors of M&Ms in a bag \n",
    "matches the expected distribution:"
   ]
  },
  {
   "cell_type": "code",
   "execution_count": null,
   "id": "1a40a596-78e1-4194-9c63-0bad9d99ad11",
   "metadata": {},
   "outputs": [],
   "source": [
    "from scipy.stats import chisquare\n",
    "\n",
    "# Observed frequencies of each color in the M&Ms bag\n",
    "observed_frequencies = [observed_blue, observed_orange, observed_green, \n",
    "                        observed_yellow, observed_red, observed_brown]\n",
    "                        \n",
    "# Expected frequencies based on the expected distribution\n",
    "expected_frequencies = [expected_blue, expected_orange, expected_green, \n",
    "                        expected_yellow, expected_red, expected_brown]\n",
    "\n",
    "# Perform the chi-square test\n",
    "chi2_statistic, p_value = chisquare(observed_frequencies, f_exp=expected_frequencies)\n",
    "\n",
    "# Significance level\n",
    "alpha = 0.05\n",
    "\n",
    "# Compare p-value with significance level\n",
    "if p_value < alpha:\n",
    "    print(\"Reject the null hypothesis: The distribution of colors is different from expected.\")\n",
    "else:\n",
    "    print(\"Fail to reject the null hypothesis: The distribution of colors matches the expected distribution.\")\n",
    "    \n",
    "print(\"Chi-square statistic:\", chi2_statistic)"
   ]
  },
  {
   "cell_type": "code",
   "execution_count": null,
   "id": "c69ffaed-b5d5-406b-ae9c-888b8c0cee4f",
   "metadata": {},
   "outputs": [],
   "source": [
    "In this code, you need to replace observed_blue, observed_orange, etc. with the \n",
    "actual observed frequencies of each color in your M&Ms bag. Also, replace expected_blue, \n",
    "expected_orange, etc. with the expected frequencies based on the given distribution.\n",
    "\n",
    "The chi-square test will help you determine whether the observed distribution significantly \n",
    "deviates from the expected distribution. If the p-value is less than the chosen significance \n",
    "level (0.05 in this case), you can reject the null hypothesis, suggesting that there is a \n",
    "significant difference between the observed and expected distributions. Otherwise, you would\n",
    "fail to reject the null hypothesis, indicating that the observed distribution matches the expected\n",
    "distribution within the specified significance level.\n",
    "\n",
    "\n",
    "\n",
    "\n"
   ]
  },
  {
   "cell_type": "code",
   "execution_count": null,
   "id": "0ac3bcd0-c539-47e8-980d-48ae8ce73e72",
   "metadata": {},
   "outputs": [],
   "source": [
    "Q4. A study of the prevalence of smoking in a population of 500 individuals found that 60 individuals \n",
    "smoked. Use Python to calculate the 95% confidence interval for the true proportion of individuals in the \n",
    "population who smoke."
   ]
  },
  {
   "cell_type": "code",
   "execution_count": null,
   "id": "aa02cdf0-e80c-4945-83c1-17ed2247b5fd",
   "metadata": {},
   "outputs": [],
   "source": [
    "To calculate the 95% confidence interval for the true proportion of individuals in the population \n",
    "who smoke, you can use the formula for the confidence interval of a proportion:\n",
    "\n",
    "Confidence Interval = Sample Proportion ± (Critical Value) * Standard Error\n",
    "\n",
    "Where:\n",
    "\n",
    "Sample Proportion = Number of individuals who smoke / Total sample size\n",
    "Critical Value corresponds to the desired confidence level (for a 95% confidence level, it's approximately 1.96)\n",
    "Standard Error = sqrt((Sample Proportion * (1 - Sample Proportion)) / Total sample size)\n",
    "Here's how you can perform this calculation in Python:"
   ]
  },
  {
   "cell_type": "code",
   "execution_count": null,
   "id": "d05c2c38-6ed2-4315-9398-8e31aa6dccf5",
   "metadata": {},
   "outputs": [],
   "source": [
    "import math\n",
    "\n",
    "# Given data\n",
    "total_population = 500\n",
    "individuals_smoked = 60\n",
    "confidence_level = 0.95\n",
    "\n",
    "# Calculate the sample proportion\n",
    "sample_proportion = individuals_smoked / total_population\n",
    "\n",
    "# Calculate the critical value for a normal distribution\n",
    "critical_value = 1.96\n",
    "\n",
    "# Calculate the standard error\n",
    "standard_error = math.sqrt((sample_proportion * (1 - sample_proportion)) / total_population)\n",
    "\n",
    "# Calculate the margin of error\n",
    "margin_of_error = critical_value * standard_error\n",
    "\n",
    "# Calculate the confidence interval\n",
    "lower_bound = sample_proportion - margin_of_error\n",
    "upper_bound = sample_proportion + margin_of_error\n",
    "\n",
    "print(\"95% Confidence Interval for the proportion of smokers: [{:.4f}, {:.4f}]\".format(lower_bound, upper_bound))"
   ]
  },
  {
   "cell_type": "code",
   "execution_count": null,
   "id": "6340145d-bcb6-48fa-a4e2-7ba38c998ed4",
   "metadata": {},
   "outputs": [],
   "source": [
    "This will give you a confidence interval within which you can be 95% confident that the true\n",
    "proportion of individuals in the population who smoke lies. The interpretation is that if\n",
    "you were to take many samples and calculate the confidence intervals for each, about 95% \n",
    "of those intervals would contain the true population proportion of smokers."
   ]
  },
  {
   "cell_type": "code",
   "execution_count": null,
   "id": "6d620f4d-1816-426d-a79f-344a3506b897",
   "metadata": {},
   "outputs": [],
   "source": []
  },
  {
   "cell_type": "code",
   "execution_count": null,
   "id": "291f0e97-6b30-43a0-adc8-8e6076a651e4",
   "metadata": {},
   "outputs": [],
   "source": [
    "Q5. Calculate the 90% confidence interval for a sample of data with a mean of 75 and a standard deviation \n",
    "of 12 using Python. Interpret the results."
   ]
  },
  {
   "cell_type": "code",
   "execution_count": null,
   "id": "3b38bfbe-4dff-4ded-8f3e-7d1ee63c2c2c",
   "metadata": {},
   "outputs": [],
   "source": [
    "To calculate the 90% confidence interval for a sample with a known mean and standard deviation,\n",
    "you can follow a similar approach as shown in a previous response. Here's the Python code to\n",
    "calculate the 90% confidence interval\n",
    "and interpret the results:"
   ]
  },
  {
   "cell_type": "code",
   "execution_count": null,
   "id": "e95ebc9e-cf9a-46e0-a35f-99d5ce089e3f",
   "metadata": {},
   "outputs": [],
   "source": [
    "import math\n",
    "\n",
    "mean = 75\n",
    "std_dev = 12\n",
    "confidence_level = 0.90\n",
    "sample_size = 100  # You need to provide the sample size\n",
    "\n",
    "# Calculate the critical value for a normal distribution\n",
    "critical_value = 1.645  # For a 90% confidence level\n",
    "\n",
    "# Calculate the margin of error\n",
    "margin_of_error = critical_value * (std_dev / math.sqrt(sample_size))\n",
    "\n",
    "# Calculate the confidence interval\n",
    "lower_bound = mean - margin_of_error\n",
    "upper_bound = mean + margin_of_error\n",
    "\n",
    "print(\"90% Confidence Interval: [{:.2f}, {:.2f}]\".format(lower_bound, upper_bound))"
   ]
  },
  {
   "cell_type": "code",
   "execution_count": null,
   "id": "bbda7fbd-a12a-4a13-9eb5-aaaa28fdb273",
   "metadata": {},
   "outputs": [],
   "source": [
    "Interpretation:\n",
    "In this case, if you calculate the 90% confidence interval, it will give you a range \n",
    "within which you can be 90% confident that the true population mean lies. This means that if you were \n",
    "to take many samples and calculate the confidence intervals for each, about 90% of those \n",
    "intervals would contain the true population mean.\n",
    "\n",
    "The interpretation of a confidence interval remains the same regardless of the confidence\n",
    "level chosen: it provides a range within which the true population parameter is likely to\n",
    "fall with a specified level of confidence."
   ]
  },
  {
   "cell_type": "code",
   "execution_count": null,
   "id": "7e2c0d0f-ee5b-425b-9db8-80f9d6d1b661",
   "metadata": {},
   "outputs": [],
   "source": []
  },
  {
   "cell_type": "code",
   "execution_count": null,
   "id": "ec5064d2-9364-4a68-8857-097a53d70e1a",
   "metadata": {},
   "outputs": [],
   "source": [
    "Q6. Use Python to plot the chi-square distribution with 10 degrees of freedom. Label the axes and shade the \n",
    "area corresponding to a chi-square statistic of 15."
   ]
  },
  {
   "cell_type": "code",
   "execution_count": null,
   "id": "6876f968-2a48-4207-ab31-5c3da05971f4",
   "metadata": {},
   "outputs": [],
   "source": [
    "you can use the scipy.stats module to plot the chi-square distribution and shade the \n",
    "area corresponding to a certain chi-square statistic.\n",
    "Here's how you can do it using Python:"
   ]
  },
  {
   "cell_type": "code",
   "execution_count": 1,
   "id": "bbf30e6f-15a7-49a9-853c-fdea6446c614",
   "metadata": {},
   "outputs": [
    {
     "data": {
      "image/png": "[encoded data removed]",
      "text/plain": [
       "<Figure size 800x600 with 1 Axes>"
      ]
     },
     "metadata": {},
     "output_type": "display_data"
    }
   ],
   "source": [
    "\n",
    "import numpy as np\n",
    "import matplotlib.pyplot as plt\n",
    "from scipy.stats import chi2\n",
    "\n",
    "# Degrees of freedom\n",
    "df = 10\n",
    "\n",
    "# Create a range of x values\n",
    "x = np.linspace(0, 30, 500)\n",
    "\n",
    "# Calculate the chi-square probability density function\n",
    "pdf = chi2.pdf(x, df)\n",
    "\n",
    "# Create the plot\n",
    "plt.figure(figsize=(8, 6))\n",
    "plt.plot(x, pdf, label=f'Chi-square with {df} degrees of freedom')\n",
    "plt.xlabel('Chi-square Statistic')\n",
    "plt.ylabel('Probability Density Function')\n",
    "plt.title('Chi-square Distribution')\n",
    "plt.axvline(x=15, color='red', linestyle='--', label='Chi-square Statistic = 15')\n",
    "plt.fill_between(x, pdf, where=(x >= 15), color='red', alpha=0.2)\n",
    "plt.legend()\n",
    "plt.grid(True)\n",
    "plt.show()"
   ]
  },
  {
   "cell_type": "code",
   "execution_count": null,
   "id": "89b9898d-1f2e-4dc6-93ad-6ec6aa5ffae6",
   "metadata": {},
   "outputs": [],
   "source": [
    "This code will create a plot of the chi-square distribution with 10 degrees of freedom. \n",
    "It will shade the area to the right of the chi-square statistic of 15, indicating the \n",
    "probability of observing a value greater than or equal to 15 in the distribution.\n",
    "\n",
    "Remember to install the necessary libraries if you haven't already:\n",
    "\n",
    "The plot will show the chi-square distribution curve, label the axes, indicate the specific\n",
    "chi-square statistic of 15 with a dashed line, \n",
    "and shade the corresponding area."
   ]
  },
  {
   "cell_type": "code",
   "execution_count": null,
   "id": "fc97f768-5fea-42b9-9efd-6fbddd347c2c",
   "metadata": {},
   "outputs": [],
   "source": []
  },
  {
   "cell_type": "code",
   "execution_count": null,
   "id": "29afbf2b-0e3f-48ae-bbc9-baf3623a9d3c",
   "metadata": {},
   "outputs": [],
   "source": [
    "Q7. A random sample of 1000 people was asked if they preferred Coke or Pepsi. Of the sample, 520 \n",
    "preferred Coke. Calculate a 99% confidence interval for the true proportion of people in the population who \n",
    "prefer Coke."
   ]
  },
  {
   "cell_type": "code",
   "execution_count": null,
   "id": "44effb34-e67c-4402-9939-497897d6d7fc",
   "metadata": {},
   "outputs": [],
   "source": [
    "To calculate the 99% confidence interval for the true proportion of people in the population who\n",
    "prefer Coke, you can follow the same approach as in previous examples.\n",
    "Here's the Python code to calculate the confidence interval:"
   ]
  },
  {
   "cell_type": "code",
   "execution_count": null,
   "id": "8e78e6f4-a9b3-4632-81dc-5a38bcf360c6",
   "metadata": {},
   "outputs": [],
   "source": [
    "import math\n",
    "\n",
    "sample_size = 1000\n",
    "preferred_coke = 520\n",
    "confidence_level = 0.99\n",
    "\n",
    "# Calculate the sample proportion\n",
    "sample_proportion = preferred_coke / sample_size\n",
    "\n",
    "# Calculate the critical value for a normal distribution\n",
    "critical_value = 2.576  # For a 99% confidence level\n",
    "\n",
    "# Calculate the standard error\n",
    "standard_error = math.sqrt((sample_proportion * (1 - sample_proportion)) / sample_size)\n",
    "\n",
    "# Calculate the margin of error\n",
    "margin_of_error = critical_value * standard_error\n",
    "\n",
    "# Calculate the confidence interval\n",
    "lower_bound = sample_proportion - margin_of_error\n",
    "upper_bound = sample_proportion + margin_of_error\n",
    "\n",
    "print(\"99% Confidence Interval for the proportion preferring Coke: [{:.4f}, {:.4f}]\".format(lower_bound, upper_bound))"
   ]
  },
  {
   "cell_type": "code",
   "execution_count": null,
   "id": "05ddba0e-3457-4db8-9a48-b0933e5e5ce0",
   "metadata": {},
   "outputs": [],
   "source": [
    "Interpretation:\n",
    "The calculated confidence interval provides a range within which you can be 99% confident \n",
    "that the true proportion of people in the population who prefer Coke lies. This means that \n",
    "if you were to take many samples and calculate the confidence intervals for each, about 99% \n",
    "of those intervals would contain the true \n",
    "population proportion of people who prefer Coke."
   ]
  },
  {
   "cell_type": "code",
   "execution_count": null,
   "id": "57989c51-9852-4a77-a39a-910057262868",
   "metadata": {},
   "outputs": [],
   "source": []
  },
  {
   "cell_type": "code",
   "execution_count": null,
   "id": "bc716af8-bf47-4338-97fb-9eaa4afee6ee",
   "metadata": {},
   "outputs": [],
   "source": [
    "Q8. A researcher hypothesizes that a coin is biased towards tails. They flip the coin 100 times and observe \n",
    "45 tails. Conduct a chi-square goodness of fit test to determine if the observed frequencies match the \n",
    "expected frequencies of a fair coin. Use a significance level of 0.05."
   ]
  },
  {
   "cell_type": "code",
   "execution_count": null,
   "id": "ac0b4ab9-876f-4e15-b34b-ed2c30690874",
   "metadata": {},
   "outputs": [],
   "source": [
    "To conduct a chi-square goodness of fit test in Python, comparing observed frequencies with expected \n",
    "frequencies, you can use the scipy.stats module. Here's how you can perform the test to determine if\n",
    "the observed frequencies match the expected\n",
    "frequencies of a fair coin:"
   ]
  },
  {
   "cell_type": "code",
   "execution_count": null,
   "id": "28e5edcd-3bd4-4318-8e4d-5a5b586a5cdf",
   "metadata": {},
   "outputs": [],
   "source": [
    "from scipy.stats import chisquare\n",
    "\n",
    "# Given data\n",
    "observed_tails = 45\n",
    "total_flips = 100\n",
    "expected_heads = total_flips - observed_tails\n",
    "expected_tails = observed_tails\n",
    "\n",
    "observed_frequencies = [observed_heads, observed_tails]\n",
    "expected_frequencies = [expected_heads, expected_tails]\n",
    "\n",
    "# Perform the chi-square test\n",
    "chi2_statistic, p_value = chisquare(observed_frequencies, f_exp=expected_frequencies)\n",
    "\n",
    "# Significance level\n",
    "alpha = 0.05\n",
    "\n",
    "# Compare p-value with significance level\n",
    "if p_value < alpha:\n",
    "    print(\"Reject the null hypothesis: The coin is biased.\")\n",
    "else:\n",
    "    print(\"Fail to reject the null hypothesis: The coin is fair.\")\n",
    "    \n",
    "print(\"Chi-square statistic:\", chi2_statistic)"
   ]
  },
  {
   "cell_type": "code",
   "execution_count": null,
   "id": "093c2ac4-dcda-4c4e-a906-fc5c437bd393",
   "metadata": {},
   "outputs": [],
   "source": [
    "In this code, you need to provide the observed tails count and total number of flips.\n",
    "The observed heads count is calculated based on these values to make the sum of observed \n",
    "frequencies equal to the total number of flips. The expected heads and tails counts are the\n",
    "expected frequencies for a fair coin.\n",
    "\n",
    "The chi-square test will help you determine whether the observed frequencies significantly \n",
    "deviate from the expected frequencies of a fair coin. If the p-value is less than the chosen \n",
    "significance level (0.05 in this case), you can reject the null hypothesis, suggesting that\n",
    "the coin is biased. Otherwise, you would fail to reject the null hypothesis, indicating that \n",
    "the observed frequencies match the expected frequencies of a fair coin within \n",
    "the specified significance level."
   ]
  },
  {
   "cell_type": "code",
   "execution_count": null,
   "id": "fbb6473a-b842-4e95-b32a-afec76043af0",
   "metadata": {},
   "outputs": [],
   "source": []
  },
  {
   "cell_type": "code",
   "execution_count": null,
   "id": "49861b04-d384-46f4-bd24-7f073451433a",
   "metadata": {},
   "outputs": [],
   "source": [
    "Q11. A random sample of 30 people was selected from a population with an unknown mean and standard \n",
    "deviation. The sample mean was found to be 72 and the sample standard deviation was found to be 10. \n",
    "Conduct a hypothesis test to determine if the population mean is significantly different from 70. Use a \n",
    "significance level of 0.05."
   ]
  },
  {
   "cell_type": "code",
   "execution_count": null,
   "id": "35c9447f-d1d9-44f9-afc6-bc11afde4f01",
   "metadata": {},
   "outputs": [],
   "source": []
  },
  {
   "cell_type": "code",
   "execution_count": null,
   "id": "d1972cb8-7ebb-4ed3-868a-d6f6bf66bd95",
   "metadata": {},
   "outputs": [],
   "source": []
  },
  {
   "cell_type": "code",
   "execution_count": null,
   "id": "024e8ff8-adee-4c18-b5e1-6bb2b1defb78",
   "metadata": {},
   "outputs": [],
   "source": []
  },
  {
   "cell_type": "code",
   "execution_count": null,
   "id": "ff09ffcd-d9e1-4c19-8e7e-9c70fde33a1f",
   "metadata": {},
   "outputs": [],
   "source": []
  },
  {
   "cell_type": "code",
   "execution_count": null,
   "id": "99c66b27-0289-4999-9c43-46e59e6da16b",
   "metadata": {},
   "outputs": [],
   "source": []
  }
 ],
 "metadata": {
  "kernelspec": {
   "display_name": "Python 3 (ipykernel)",
   "language": "python",
   "name": "python3"
  },
  "language_info": {
   "codemirror_mode": {
    "name": "ipython",
    "version": 3
   },
   "file_extension": ".py",
   "mimetype": "text/x-python",
   "name": "python",
   "nbconvert_exporter": "python",
   "pygments_lexer": "ipython3",
   "version": "3.10.6"
  }
 },
 "nbformat": 4,
 "nbformat_minor": 5
}
